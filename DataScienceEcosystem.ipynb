{
 "cells": [
  {
   "cell_type": "code",
   "execution_count": null,
   "id": "1a2c765b-ab6b-4fc5-9219-2dd35adb6134",
   "metadata": {},
   "outputs": [],
   "source": [
    "# Data Science Tools and Ecosystem"
   ]
  },
  {
   "cell_type": "code",
   "execution_count": null,
   "id": "f46b99cd-95aa-4e8b-a944-fc04e07411b6",
   "metadata": {},
   "outputs": [],
   "source": [
    "#In this notebook, Data Science Tools and Ecosystem are summarized."
   ]
  },
  {
   "cell_type": "code",
   "execution_count": null,
   "id": "9915b60e-9a64-45ac-aefe-2e5bc31fbadd",
   "metadata": {},
   "outputs": [],
   "source": [
    "## Some of the popular languages that Data Scientists use are:\n",
    "\n",
    "1. Python\n",
    "2. R\n",
    "3. Scala"
   ]
  },
  {
   "cell_type": "code",
   "execution_count": null,
   "id": "4f943b3b-cc0e-407f-80b4-9150992673b0",
   "metadata": {},
   "outputs": [],
   "source": [
    "## Some of the commonly used libraries used by Data Scientists include:\n",
    "\n",
    "1. NumPy: Provides powerful tools for numerical computing and array manipulation.\n",
    "2. Pandas: Offers functionalities for data analysis, manipulation, and data structures like DataFrames.\n",
    "3. Matplotlib: Creates various static, animated, and interactive visualizations."
   ]
  },
  {
   "cell_type": "code",
   "execution_count": null,
   "id": "12d29905-737b-4efa-a2d1-5eec23e1dbf2",
   "metadata": {},
   "outputs": [],
   "source": [
    "## Data Science Tools\n",
    "\n",
    "| Tool |\n",
    "|---|---|\n",
    "| Jupyter Notebook |\n",
    "| PyCharm |\n",
    "| RStudio |"
   ]
  },
  {
   "cell_type": "code",
   "execution_count": null,
   "id": "d4fb65a0-b899-4658-8ed7-1b78d3fded82",
   "metadata": {},
   "outputs": [],
   "source": [
    "### Below are a few examples of evaluating arithmetic expressions in Python."
   ]
  },
  {
   "cell_type": "code",
   "execution_count": null,
   "id": "dd3e2dd5-0b47-42fa-9cc2-325000a32153",
   "metadata": {},
   "outputs": [],
   "source": [
    "# This is a simple arithmetic expression to multiply then add integers\n",
    "expression = (3 * 4) + 5\n",
    "\n",
    "# Print the result\n",
    "print(expression)"
   ]
  },
  {
   "cell_type": "code",
   "execution_count": null,
   "id": "c1d4f839-d496-4088-b067-9e41ee353590",
   "metadata": {},
   "outputs": [],
   "source": [
    "# This will convert 200 minutes to hours by dividing by 60\n",
    "minutes = 200\n",
    "hours = minutes / 60\n",
    "\n",
    "# Print the result\n",
    "print(hours)"
   ]
  },
  {
   "cell_type": "code",
   "execution_count": null,
   "id": "b27dbf19-3ae7-4896-9503-3c069afa19ee",
   "metadata": {},
   "outputs": [],
   "source": [
    "## Objectives:\n",
    "\n",
    "* **List popular data science languages and libraries:** This notebook introduced some commonly used languages (e.g., Python, R, Scala) and libraries (e.g., NumPy, Pandas, Matplotlib) in data science.\n",
    "* **Perform basic arithmetic operations in Python:** We explored simple code examples to evaluate arithmetic expressions like multiplication and addition.\n",
    "* **Convert between units:** The notebook demonstrated how to convert minutes to hours using Python code.\n",
    "* **Structure a Jupyter Notebook with Markdown and Code:** This exercise provided a hands-on experience in creating a Jupyter Notebook with formatted text (Markdown cells) and code execution (code cells).\n"
   ]
  },
  {
   "cell_type": "code",
   "execution_count": null,
   "id": "1a18938e-f203-43df-bbc0-5d1b5399ce8f",
   "metadata": {},
   "outputs": [],
   "source": [
    "## Author\n",
    "\n",
    "Jad Issa\n"
   ]
  }
 ],
 "metadata": {
  "kernelspec": {
   "display_name": "Python 3 (ipykernel)",
   "language": "python",
   "name": "python3"
  },
  "language_info": {
   "codemirror_mode": {
    "name": "ipython",
    "version": 3
   },
   "file_extension": ".py",
   "mimetype": "text/x-python",
   "name": "python",
   "nbconvert_exporter": "python",
   "pygments_lexer": "ipython3",
   "version": "3.11.7"
  }
 },
 "nbformat": 4,
 "nbformat_minor": 5
}
